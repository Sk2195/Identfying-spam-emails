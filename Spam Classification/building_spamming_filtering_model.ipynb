{
 "cells": [
  {
   "cell_type": "code",
   "execution_count": 55,
   "id": "312e1f6f",
   "metadata": {},
   "outputs": [],
   "source": [
    "import pandas as pd \n",
    "import numpy as np \n",
    "import seaborn as sns \n",
    "import re"
   ]
  },
  {
   "cell_type": "code",
   "execution_count": 56,
   "id": "28b00588",
   "metadata": {},
   "outputs": [],
   "source": [
    "spam_email = pd.read_csv('SMSSpamCollection',sep='\\t', header=None,names=['Label', 'SMS'])"
   ]
  },
  {
   "cell_type": "code",
   "execution_count": 57,
   "id": "0ce2be62",
   "metadata": {},
   "outputs": [
    {
     "data": {
      "text/plain": [
       "Index(['Label', 'SMS'], dtype='object')"
      ]
     },
     "execution_count": 57,
     "metadata": {},
     "output_type": "execute_result"
    }
   ],
   "source": [
    "spam_email.columns"
   ]
  },
  {
   "cell_type": "code",
   "execution_count": 58,
   "id": "b641f0ad",
   "metadata": {},
   "outputs": [
    {
     "data": {
      "text/plain": [
       "(5572, 2)"
      ]
     },
     "execution_count": 58,
     "metadata": {},
     "output_type": "execute_result"
    }
   ],
   "source": [
    "spam_email.shape"
   ]
  },
  {
   "cell_type": "code",
   "execution_count": 59,
   "id": "7a98e4ac",
   "metadata": {},
   "outputs": [
    {
     "data": {
      "text/html": [
       "<div>\n",
       "<style scoped>\n",
       "    .dataframe tbody tr th:only-of-type {\n",
       "        vertical-align: middle;\n",
       "    }\n",
       "\n",
       "    .dataframe tbody tr th {\n",
       "        vertical-align: top;\n",
       "    }\n",
       "\n",
       "    .dataframe thead th {\n",
       "        text-align: right;\n",
       "    }\n",
       "</style>\n",
       "<table border=\"1\" class=\"dataframe\">\n",
       "  <thead>\n",
       "    <tr style=\"text-align: right;\">\n",
       "      <th></th>\n",
       "      <th>Label</th>\n",
       "      <th>SMS</th>\n",
       "    </tr>\n",
       "  </thead>\n",
       "  <tbody>\n",
       "    <tr>\n",
       "      <th>0</th>\n",
       "      <td>ham</td>\n",
       "      <td>Go until jurong point, crazy.. Available only ...</td>\n",
       "    </tr>\n",
       "    <tr>\n",
       "      <th>1</th>\n",
       "      <td>ham</td>\n",
       "      <td>Ok lar... Joking wif u oni...</td>\n",
       "    </tr>\n",
       "    <tr>\n",
       "      <th>2</th>\n",
       "      <td>spam</td>\n",
       "      <td>Free entry in 2 a wkly comp to win FA Cup fina...</td>\n",
       "    </tr>\n",
       "    <tr>\n",
       "      <th>3</th>\n",
       "      <td>ham</td>\n",
       "      <td>U dun say so early hor... U c already then say...</td>\n",
       "    </tr>\n",
       "    <tr>\n",
       "      <th>4</th>\n",
       "      <td>ham</td>\n",
       "      <td>Nah I don't think he goes to usf, he lives aro...</td>\n",
       "    </tr>\n",
       "  </tbody>\n",
       "</table>\n",
       "</div>"
      ],
      "text/plain": [
       "  Label                                                SMS\n",
       "0   ham  Go until jurong point, crazy.. Available only ...\n",
       "1   ham                      Ok lar... Joking wif u oni...\n",
       "2  spam  Free entry in 2 a wkly comp to win FA Cup fina...\n",
       "3   ham  U dun say so early hor... U c already then say...\n",
       "4   ham  Nah I don't think he goes to usf, he lives aro..."
      ]
     },
     "execution_count": 59,
     "metadata": {},
     "output_type": "execute_result"
    }
   ],
   "source": [
    "spam_email.head(5)"
   ]
  },
  {
   "cell_type": "code",
   "execution_count": 60,
   "id": "b7b8f038",
   "metadata": {},
   "outputs": [
    {
     "data": {
      "text/plain": [
       "ham     4825\n",
       "spam     747\n",
       "Name: Label, dtype: int64"
      ]
     },
     "execution_count": 60,
     "metadata": {},
     "output_type": "execute_result"
    }
   ],
   "source": [
    "spam_email['Label'].value_counts()"
   ]
  },
  {
   "cell_type": "code",
   "execution_count": 61,
   "id": "25d08107",
   "metadata": {},
   "outputs": [],
   "source": [
    "label_counts = spam_email['Label'].value_counts()"
   ]
  },
  {
   "cell_type": "code",
   "execution_count": 62,
   "id": "4b9fa469",
   "metadata": {},
   "outputs": [],
   "source": [
    "# Calculate the percentages of each label\n",
    "total_messages = len(spam_email)\n",
    "spam_percentage = (label_counts['spam'] / total_messages * 100)\n",
    "ham_percentage = (label_counts['ham'] / total_messages * 100)"
   ]
  },
  {
   "cell_type": "code",
   "execution_count": 63,
   "id": "f66413c7",
   "metadata": {},
   "outputs": [
    {
     "name": "stdout",
     "output_type": "stream",
     "text": [
      "Percentage of spam messages: 13.41%\n",
      "Percentage of ham messages: 86.59%\n"
     ]
    }
   ],
   "source": [
    "print(f\"Percentage of spam messages: {spam_percentage:.2f}%\")\n",
    "print(f\"Percentage of ham messages: {ham_percentage:.2f}%\")"
   ]
  },
  {
   "cell_type": "code",
   "execution_count": 64,
   "id": "6aae3a8a",
   "metadata": {},
   "outputs": [
    {
     "data": {
      "text/plain": [
       "<Axes: xlabel='count', ylabel='Label'>"
      ]
     },
     "execution_count": 64,
     "metadata": {},
     "output_type": "execute_result"
    },
    {
     "data": {
      "image/png": "[encoded data removed]",
      "text/plain": [
       "<Figure size 640x480 with 1 Axes>"
      ]
     },
     "metadata": {},
     "output_type": "display_data"
    }
   ],
   "source": [
    "#Visualization\n",
    "# Majority of the emails are ham\n",
    "sns.countplot(y='Label', data=spam_email,palette='viridis')"
   ]
  },
  {
   "cell_type": "code",
   "execution_count": 65,
   "id": "c811b4d2",
   "metadata": {},
   "outputs": [
    {
     "name": "stdout",
     "output_type": "stream",
     "text": [
      "Full Dataset - Spam: 13.41%, Ham: 86.59%\n",
      "Training Set - Spam: 13.46%, Ham: 86.54%\n",
      "Test Set - Spam: 13.18%, Ham: 86.82%\n"
     ]
    }
   ],
   "source": [
    "# Randomize the entire dataset\n",
    "randomized_df = spam_email.sample(frac=1, random_state=1)\n",
    "\n",
    "\n",
    "# Split the dataset into the training and test sets (80% training , 20% testing)\n",
    "\n",
    "train_size = int(0.8 * len(randomized_df))\n",
    "train_set = randomized_df[:train_size]\n",
    "test_set = randomized_df[train_size:]\n",
    "\n",
    "\n",
    "# Reset the index labels for both datasets\n",
    "train_set = train_set.reset_index(drop=True)\n",
    "test_set = test_set.reset_index(drop=True)\n",
    "\n",
    "# Find the percentage of spam and ham in the full dataset\n",
    "full_dataset_size = len(randomized_df)\n",
    "full_spam_percentage = (randomized_df['Label'].value_counts()['spam'] / full_dataset_size) * 100\n",
    "full_ham_percentage = (randomized_df['Label'].value_counts()['ham'] / full_dataset_size) * 100\n",
    "\n",
    "# Find the percentage of spam and ham in the training set\n",
    "train_spam_percentage = (train_set['Label'].value_counts()['spam'] / len(train_set)) * 100\n",
    "train_ham_percentage = (train_set['Label'].value_counts()['ham'] / len(train_set)) * 100\n",
    "\n",
    "# Find the percentage of spam and ham in the test set\n",
    "test_spam_percentage = (test_set['Label'].value_counts()['spam'] / len(test_set)) * 100\n",
    "test_ham_percentage = (test_set['Label'].value_counts()['ham'] / len(test_set)) * 100\n",
    "\n",
    "# Print the percentages\n",
    "print(f\"Full Dataset - Spam: {full_spam_percentage:.2f}%, Ham: {full_ham_percentage:.2f}%\")\n",
    "print(f\"Training Set - Spam: {train_spam_percentage:.2f}%, Ham: {train_ham_percentage:.2f}%\")\n",
    "print(f\"Test Set - Spam: {test_spam_percentage:.2f}%, Ham: {test_ham_percentage:.2f}%\")\n",
    "\n",
    "\n",
    "\n",
    "\n",
    "\n",
    "\n"
   ]
  },
  {
   "cell_type": "code",
   "execution_count": 66,
   "id": "7437f02f",
   "metadata": {},
   "outputs": [
    {
     "name": "stderr",
     "output_type": "stream",
     "text": [
      "C:\\Users\\chimi\\AppData\\Local\\Temp\\ipykernel_24908\\1570059114.py:2: FutureWarning: The default value of regex will change from True to False in a future version.\n",
      "  train_set['SMS'] = train_set['SMS'].str.replace('\\W', ' ')\n"
     ]
    },
    {
     "data": {
      "text/html": [
       "<div>\n",
       "<style scoped>\n",
       "    .dataframe tbody tr th:only-of-type {\n",
       "        vertical-align: middle;\n",
       "    }\n",
       "\n",
       "    .dataframe tbody tr th {\n",
       "        vertical-align: top;\n",
       "    }\n",
       "\n",
       "    .dataframe thead th {\n",
       "        text-align: right;\n",
       "    }\n",
       "</style>\n",
       "<table border=\"1\" class=\"dataframe\">\n",
       "  <thead>\n",
       "    <tr style=\"text-align: right;\">\n",
       "      <th></th>\n",
       "      <th>Label</th>\n",
       "      <th>SMS</th>\n",
       "    </tr>\n",
       "  </thead>\n",
       "  <tbody>\n",
       "    <tr>\n",
       "      <th>0</th>\n",
       "      <td>ham</td>\n",
       "      <td>yep  by the pretty sculpture</td>\n",
       "    </tr>\n",
       "    <tr>\n",
       "      <th>1</th>\n",
       "      <td>ham</td>\n",
       "      <td>yes  princess  are you going to make me moan</td>\n",
       "    </tr>\n",
       "    <tr>\n",
       "      <th>2</th>\n",
       "      <td>ham</td>\n",
       "      <td>welp apparently he retired</td>\n",
       "    </tr>\n",
       "    <tr>\n",
       "      <th>3</th>\n",
       "      <td>ham</td>\n",
       "      <td>havent</td>\n",
       "    </tr>\n",
       "    <tr>\n",
       "      <th>4</th>\n",
       "      <td>ham</td>\n",
       "      <td>i forgot 2 ask ü all smth   there s a card on ...</td>\n",
       "    </tr>\n",
       "  </tbody>\n",
       "</table>\n",
       "</div>"
      ],
      "text/plain": [
       "  Label                                                SMS\n",
       "0   ham                       yep  by the pretty sculpture\n",
       "1   ham      yes  princess  are you going to make me moan \n",
       "2   ham                         welp apparently he retired\n",
       "3   ham                                            havent \n",
       "4   ham  i forgot 2 ask ü all smth   there s a card on ..."
      ]
     },
     "execution_count": 66,
     "metadata": {},
     "output_type": "execute_result"
    }
   ],
   "source": [
    "# Removing the punctuation from the SMS column\n",
    "train_set['SMS'] = train_set['SMS'].str.replace('\\W', ' ')\n",
    "\n",
    "# Convert all letters in every word to lower case\n",
    "train_set['SMS'] = train_set['SMS'].str.lower()\n",
    "\n",
    "# Print the first few rows to check the result\n",
    "train_set.head(5)"
   ]
  },
  {
   "cell_type": "code",
   "execution_count": 67,
   "id": "4ae34b10",
   "metadata": {},
   "outputs": [],
   "source": [
    "# Create a unique list of words\n",
    "train_set['SMS'] = train_set['SMS'].str.split()\n",
    "\n",
    "vocabulary = []\n",
    "\n",
    "for sms in train_set['SMS']:\n",
    "    for word in sms:\n",
    "        vocabulary.append(word)\n",
    "        \n",
    "vocabulary = list(set(vocabulary))"
   ]
  },
  {
   "cell_type": "code",
   "execution_count": 68,
   "id": "5d02048c",
   "metadata": {},
   "outputs": [
    {
     "data": {
      "text/plain": [
       "7782"
      ]
     },
     "execution_count": 68,
     "metadata": {},
     "output_type": "execute_result"
    }
   ],
   "source": [
    "len(vocabulary)"
   ]
  },
  {
   "cell_type": "code",
   "execution_count": 69,
   "id": "216364dd",
   "metadata": {},
   "outputs": [],
   "source": [
    "word_counts_per_sms = {unique_word: [0] * len(train_set['SMS']) for unique_word in vocabulary}\n",
    "\n",
    "for index, sms in enumerate(train_set['SMS']):\n",
    "    for word in sms:\n",
    "        word_counts_per_sms[word][index] += 1"
   ]
  },
  {
   "cell_type": "code",
   "execution_count": 70,
   "id": "8f47b76e",
   "metadata": {},
   "outputs": [
    {
     "data": {
      "text/html": [
       "<div>\n",
       "<style scoped>\n",
       "    .dataframe tbody tr th:only-of-type {\n",
       "        vertical-align: middle;\n",
       "    }\n",
       "\n",
       "    .dataframe tbody tr th {\n",
       "        vertical-align: top;\n",
       "    }\n",
       "\n",
       "    .dataframe thead th {\n",
       "        text-align: right;\n",
       "    }\n",
       "</style>\n",
       "<table border=\"1\" class=\"dataframe\">\n",
       "  <thead>\n",
       "    <tr style=\"text-align: right;\">\n",
       "      <th></th>\n",
       "      <th>venaam</th>\n",
       "      <th>buz</th>\n",
       "      <th>hav2hear</th>\n",
       "      <th>burnt</th>\n",
       "      <th>obese</th>\n",
       "      <th>unfortunately</th>\n",
       "      <th>webpage</th>\n",
       "      <th>hearts</th>\n",
       "      <th>bak</th>\n",
       "      <th>snow</th>\n",
       "      <th>...</th>\n",
       "      <th>donate</th>\n",
       "      <th>guitar</th>\n",
       "      <th>bcmsfwc1n3xx</th>\n",
       "      <th>collected</th>\n",
       "      <th>aretaking</th>\n",
       "      <th>11pm</th>\n",
       "      <th>domain</th>\n",
       "      <th>afghanistan</th>\n",
       "      <th>patients</th>\n",
       "      <th>belive</th>\n",
       "    </tr>\n",
       "  </thead>\n",
       "  <tbody>\n",
       "    <tr>\n",
       "      <th>0</th>\n",
       "      <td>0</td>\n",
       "      <td>0</td>\n",
       "      <td>0</td>\n",
       "      <td>0</td>\n",
       "      <td>0</td>\n",
       "      <td>0</td>\n",
       "      <td>0</td>\n",
       "      <td>0</td>\n",
       "      <td>0</td>\n",
       "      <td>0</td>\n",
       "      <td>...</td>\n",
       "      <td>0</td>\n",
       "      <td>0</td>\n",
       "      <td>0</td>\n",
       "      <td>0</td>\n",
       "      <td>0</td>\n",
       "      <td>0</td>\n",
       "      <td>0</td>\n",
       "      <td>0</td>\n",
       "      <td>0</td>\n",
       "      <td>0</td>\n",
       "    </tr>\n",
       "    <tr>\n",
       "      <th>1</th>\n",
       "      <td>0</td>\n",
       "      <td>0</td>\n",
       "      <td>0</td>\n",
       "      <td>0</td>\n",
       "      <td>0</td>\n",
       "      <td>0</td>\n",
       "      <td>0</td>\n",
       "      <td>0</td>\n",
       "      <td>0</td>\n",
       "      <td>0</td>\n",
       "      <td>...</td>\n",
       "      <td>0</td>\n",
       "      <td>0</td>\n",
       "      <td>0</td>\n",
       "      <td>0</td>\n",
       "      <td>0</td>\n",
       "      <td>0</td>\n",
       "      <td>0</td>\n",
       "      <td>0</td>\n",
       "      <td>0</td>\n",
       "      <td>0</td>\n",
       "    </tr>\n",
       "    <tr>\n",
       "      <th>2</th>\n",
       "      <td>0</td>\n",
       "      <td>0</td>\n",
       "      <td>0</td>\n",
       "      <td>0</td>\n",
       "      <td>0</td>\n",
       "      <td>0</td>\n",
       "      <td>0</td>\n",
       "      <td>0</td>\n",
       "      <td>0</td>\n",
       "      <td>0</td>\n",
       "      <td>...</td>\n",
       "      <td>0</td>\n",
       "      <td>0</td>\n",
       "      <td>0</td>\n",
       "      <td>0</td>\n",
       "      <td>0</td>\n",
       "      <td>0</td>\n",
       "      <td>0</td>\n",
       "      <td>0</td>\n",
       "      <td>0</td>\n",
       "      <td>0</td>\n",
       "    </tr>\n",
       "    <tr>\n",
       "      <th>3</th>\n",
       "      <td>0</td>\n",
       "      <td>0</td>\n",
       "      <td>0</td>\n",
       "      <td>0</td>\n",
       "      <td>0</td>\n",
       "      <td>0</td>\n",
       "      <td>0</td>\n",
       "      <td>0</td>\n",
       "      <td>0</td>\n",
       "      <td>0</td>\n",
       "      <td>...</td>\n",
       "      <td>0</td>\n",
       "      <td>0</td>\n",
       "      <td>0</td>\n",
       "      <td>0</td>\n",
       "      <td>0</td>\n",
       "      <td>0</td>\n",
       "      <td>0</td>\n",
       "      <td>0</td>\n",
       "      <td>0</td>\n",
       "      <td>0</td>\n",
       "    </tr>\n",
       "    <tr>\n",
       "      <th>4</th>\n",
       "      <td>0</td>\n",
       "      <td>0</td>\n",
       "      <td>0</td>\n",
       "      <td>0</td>\n",
       "      <td>0</td>\n",
       "      <td>0</td>\n",
       "      <td>0</td>\n",
       "      <td>0</td>\n",
       "      <td>0</td>\n",
       "      <td>0</td>\n",
       "      <td>...</td>\n",
       "      <td>0</td>\n",
       "      <td>0</td>\n",
       "      <td>0</td>\n",
       "      <td>0</td>\n",
       "      <td>0</td>\n",
       "      <td>0</td>\n",
       "      <td>0</td>\n",
       "      <td>0</td>\n",
       "      <td>0</td>\n",
       "      <td>0</td>\n",
       "    </tr>\n",
       "  </tbody>\n",
       "</table>\n",
       "<p>5 rows × 7782 columns</p>\n",
       "</div>"
      ],
      "text/plain": [
       "   venaam  buz  hav2hear  burnt  obese  unfortunately  webpage  hearts  bak  \\\n",
       "0       0    0         0      0      0              0        0       0    0   \n",
       "1       0    0         0      0      0              0        0       0    0   \n",
       "2       0    0         0      0      0              0        0       0    0   \n",
       "3       0    0         0      0      0              0        0       0    0   \n",
       "4       0    0         0      0      0              0        0       0    0   \n",
       "\n",
       "   snow  ...  donate  guitar  bcmsfwc1n3xx  collected  aretaking  11pm  \\\n",
       "0     0  ...       0       0             0          0          0     0   \n",
       "1     0  ...       0       0             0          0          0     0   \n",
       "2     0  ...       0       0             0          0          0     0   \n",
       "3     0  ...       0       0             0          0          0     0   \n",
       "4     0  ...       0       0             0          0          0     0   \n",
       "\n",
       "   domain  afghanistan  patients  belive  \n",
       "0       0            0         0       0  \n",
       "1       0            0         0       0  \n",
       "2       0            0         0       0  \n",
       "3       0            0         0       0  \n",
       "4       0            0         0       0  \n",
       "\n",
       "[5 rows x 7782 columns]"
      ]
     },
     "execution_count": 70,
     "metadata": {},
     "output_type": "execute_result"
    }
   ],
   "source": [
    "word_counts = pd.DataFrame(word_counts_per_sms)\n",
    "word_counts.head()"
   ]
  },
  {
   "cell_type": "code",
   "execution_count": 73,
   "id": "7e77bdb4",
   "metadata": {},
   "outputs": [
    {
     "data": {
      "text/html": [
       "<div>\n",
       "<style scoped>\n",
       "    .dataframe tbody tr th:only-of-type {\n",
       "        vertical-align: middle;\n",
       "    }\n",
       "\n",
       "    .dataframe tbody tr th {\n",
       "        vertical-align: top;\n",
       "    }\n",
       "\n",
       "    .dataframe thead th {\n",
       "        text-align: right;\n",
       "    }\n",
       "</style>\n",
       "<table border=\"1\" class=\"dataframe\">\n",
       "  <thead>\n",
       "    <tr style=\"text-align: right;\">\n",
       "      <th></th>\n",
       "      <th>Label</th>\n",
       "      <th>SMS</th>\n",
       "      <th>venaam</th>\n",
       "      <th>buz</th>\n",
       "      <th>hav2hear</th>\n",
       "      <th>burnt</th>\n",
       "      <th>obese</th>\n",
       "      <th>unfortunately</th>\n",
       "      <th>webpage</th>\n",
       "      <th>hearts</th>\n",
       "      <th>...</th>\n",
       "      <th>donate</th>\n",
       "      <th>guitar</th>\n",
       "      <th>bcmsfwc1n3xx</th>\n",
       "      <th>collected</th>\n",
       "      <th>aretaking</th>\n",
       "      <th>11pm</th>\n",
       "      <th>domain</th>\n",
       "      <th>afghanistan</th>\n",
       "      <th>patients</th>\n",
       "      <th>belive</th>\n",
       "    </tr>\n",
       "  </thead>\n",
       "  <tbody>\n",
       "    <tr>\n",
       "      <th>0</th>\n",
       "      <td>ham</td>\n",
       "      <td>[yep, by, the, pretty, sculpture]</td>\n",
       "      <td>0</td>\n",
       "      <td>0</td>\n",
       "      <td>0</td>\n",
       "      <td>0</td>\n",
       "      <td>0</td>\n",
       "      <td>0</td>\n",
       "      <td>0</td>\n",
       "      <td>0</td>\n",
       "      <td>...</td>\n",
       "      <td>0</td>\n",
       "      <td>0</td>\n",
       "      <td>0</td>\n",
       "      <td>0</td>\n",
       "      <td>0</td>\n",
       "      <td>0</td>\n",
       "      <td>0</td>\n",
       "      <td>0</td>\n",
       "      <td>0</td>\n",
       "      <td>0</td>\n",
       "    </tr>\n",
       "    <tr>\n",
       "      <th>1</th>\n",
       "      <td>ham</td>\n",
       "      <td>[yes, princess, are, you, going, to, make, me,...</td>\n",
       "      <td>0</td>\n",
       "      <td>0</td>\n",
       "      <td>0</td>\n",
       "      <td>0</td>\n",
       "      <td>0</td>\n",
       "      <td>0</td>\n",
       "      <td>0</td>\n",
       "      <td>0</td>\n",
       "      <td>...</td>\n",
       "      <td>0</td>\n",
       "      <td>0</td>\n",
       "      <td>0</td>\n",
       "      <td>0</td>\n",
       "      <td>0</td>\n",
       "      <td>0</td>\n",
       "      <td>0</td>\n",
       "      <td>0</td>\n",
       "      <td>0</td>\n",
       "      <td>0</td>\n",
       "    </tr>\n",
       "    <tr>\n",
       "      <th>2</th>\n",
       "      <td>ham</td>\n",
       "      <td>[welp, apparently, he, retired]</td>\n",
       "      <td>0</td>\n",
       "      <td>0</td>\n",
       "      <td>0</td>\n",
       "      <td>0</td>\n",
       "      <td>0</td>\n",
       "      <td>0</td>\n",
       "      <td>0</td>\n",
       "      <td>0</td>\n",
       "      <td>...</td>\n",
       "      <td>0</td>\n",
       "      <td>0</td>\n",
       "      <td>0</td>\n",
       "      <td>0</td>\n",
       "      <td>0</td>\n",
       "      <td>0</td>\n",
       "      <td>0</td>\n",
       "      <td>0</td>\n",
       "      <td>0</td>\n",
       "      <td>0</td>\n",
       "    </tr>\n",
       "    <tr>\n",
       "      <th>3</th>\n",
       "      <td>ham</td>\n",
       "      <td>[havent]</td>\n",
       "      <td>0</td>\n",
       "      <td>0</td>\n",
       "      <td>0</td>\n",
       "      <td>0</td>\n",
       "      <td>0</td>\n",
       "      <td>0</td>\n",
       "      <td>0</td>\n",
       "      <td>0</td>\n",
       "      <td>...</td>\n",
       "      <td>0</td>\n",
       "      <td>0</td>\n",
       "      <td>0</td>\n",
       "      <td>0</td>\n",
       "      <td>0</td>\n",
       "      <td>0</td>\n",
       "      <td>0</td>\n",
       "      <td>0</td>\n",
       "      <td>0</td>\n",
       "      <td>0</td>\n",
       "    </tr>\n",
       "    <tr>\n",
       "      <th>4</th>\n",
       "      <td>ham</td>\n",
       "      <td>[i, forgot, 2, ask, ü, all, smth, there, s, a,...</td>\n",
       "      <td>0</td>\n",
       "      <td>0</td>\n",
       "      <td>0</td>\n",
       "      <td>0</td>\n",
       "      <td>0</td>\n",
       "      <td>0</td>\n",
       "      <td>0</td>\n",
       "      <td>0</td>\n",
       "      <td>...</td>\n",
       "      <td>0</td>\n",
       "      <td>0</td>\n",
       "      <td>0</td>\n",
       "      <td>0</td>\n",
       "      <td>0</td>\n",
       "      <td>0</td>\n",
       "      <td>0</td>\n",
       "      <td>0</td>\n",
       "      <td>0</td>\n",
       "      <td>0</td>\n",
       "    </tr>\n",
       "  </tbody>\n",
       "</table>\n",
       "<p>5 rows × 15566 columns</p>\n",
       "</div>"
      ],
      "text/plain": [
       "  Label                                                SMS  venaam  buz  \\\n",
       "0   ham                  [yep, by, the, pretty, sculpture]       0    0   \n",
       "1   ham  [yes, princess, are, you, going, to, make, me,...       0    0   \n",
       "2   ham                    [welp, apparently, he, retired]       0    0   \n",
       "3   ham                                           [havent]       0    0   \n",
       "4   ham  [i, forgot, 2, ask, ü, all, smth, there, s, a,...       0    0   \n",
       "\n",
       "   hav2hear  burnt  obese  unfortunately  webpage  hearts  ...  donate  \\\n",
       "0         0      0      0              0        0       0  ...       0   \n",
       "1         0      0      0              0        0       0  ...       0   \n",
       "2         0      0      0              0        0       0  ...       0   \n",
       "3         0      0      0              0        0       0  ...       0   \n",
       "4         0      0      0              0        0       0  ...       0   \n",
       "\n",
       "   guitar  bcmsfwc1n3xx  collected  aretaking  11pm  domain  afghanistan  \\\n",
       "0       0             0          0          0     0       0            0   \n",
       "1       0             0          0          0     0       0            0   \n",
       "2       0             0          0          0     0       0            0   \n",
       "3       0             0          0          0     0       0            0   \n",
       "4       0             0          0          0     0       0            0   \n",
       "\n",
       "   patients  belive  \n",
       "0         0       0  \n",
       "1         0       0  \n",
       "2         0       0  \n",
       "3         0       0  \n",
       "4         0       0  \n",
       "\n",
       "[5 rows x 15566 columns]"
      ]
     },
     "execution_count": 73,
     "metadata": {},
     "output_type": "execute_result"
    }
   ],
   "source": [
    "train_df = pd.concat([train_set, word_counts], axis=1)\n",
    "train_df.head()"
   ]
  },
  {
   "cell_type": "code",
   "execution_count": 75,
   "id": "a321ceb7",
   "metadata": {},
   "outputs": [],
   "source": [
    "# Step 1: Calculate the length of messages\n",
    "total_messages = len(train_df)\n",
    "\n",
    "# Step 2: Calculate the prior probabilities for each class\n",
    "class_counts = train_df['Label'].value_counts()\n",
    "p_spam = class_counts['spam'] / total_messages\n",
    "p_ham = class_counts['ham'] / total_messages\n",
    "\n",
    "# Step 3: Preprocess the text data in the 'SMS' column\n",
    "train_df['SMS'] = train_df['SMS'].apply(' '.join)\n",
    "\n",
    "# Step 4: Calculate the total count of words in each class\n",
    "n_words_per_spam_message = spam_messages['SMS'].apply(len)\n",
    "n_spam = n_words_per_spam_message.sum()\n",
    "\n",
    "n_words_per_ham_message = ham_messages['SMS'].apply(len)\n",
    "n_ham = n_words_per_ham_message.sum()\n",
    "\n",
    "# Step 5: Calculate the probability of each word given each class using Laplace smoothing\n",
    "alpha = 1  # Laplace smoothing parameter\n",
    "\n",
    "# Initialize dictionaries to store probabilities for each class (Spam and Ham)\n",
    "prob_word_given_spam = {}\n",
    "prob_word_given_ham = {}\n",
    "\n",
    "# Calculate probabilities for each word in the vocabulary for each class\n",
    "for word in vocabulary:\n",
    "    # Calculate P(word|Spam)\n",
    "    word_count_in_spam = spam_messages['SMS'].apply(lambda sms: word in sms).sum()\n",
    "    prob_word_given_spam[word] = (word_count_in_spam + alpha) / (n_spam + alpha * len(vocabulary))\n",
    "\n",
    "    # Calculate P(word|Ham)\n",
    "    word_count_in_ham = ham_messages['SMS'].apply(lambda sms: word in sms).sum()\n",
    "    prob_word_given_ham[word] = (word_count_in_ham + alpha) / (n_ham + alpha * len(vocabulary))\n"
   ]
  },
  {
   "cell_type": "code",
   "execution_count": 87,
   "id": "0a210f7f",
   "metadata": {},
   "outputs": [],
   "source": [
    "def predict_class(message):\n",
    "    # Preprocess the new message\n",
    "    preprocessed_message = re.sub('\\W', ' ', message.lower()).split()\n",
    "\n",
    "    # Initialize log probabilities for each class\n",
    "    log_p_spam_given_message = np.log(p_spam)\n",
    "    log_p_ham_given_message = np.log(p_ham)\n",
    "\n",
    "    # Calculate log probabilities for each word in the message\n",
    "    for word in preprocessed_message:\n",
    "        if word in prob_word_given_spam:\n",
    "            log_p_spam_given_message += np.log(prob_word_given_spam[word])\n",
    "        if word in prob_word_given_ham:\n",
    "            log_p_ham_given_message += np.log(prob_word_given_ham[word])\n",
    "\n",
    "    # Compare log probabilities and predict the label\n",
    "    if log_p_spam_given_message > log_p_ham_given_message:\n",
    "        return 'spam'\n",
    "    else:\n",
    "        return 'ham'\n"
   ]
  },
  {
   "cell_type": "code",
   "execution_count": 88,
   "id": "ee38b99c",
   "metadata": {},
   "outputs": [
    {
     "data": {
      "text/plain": [
       "'spam'"
      ]
     },
     "execution_count": 88,
     "metadata": {},
     "output_type": "execute_result"
    }
   ],
   "source": [
    "predict_class('Winner! You have the won the lottery')"
   ]
  },
  {
   "cell_type": "code",
   "execution_count": 89,
   "id": "ecf34183",
   "metadata": {},
   "outputs": [
    {
     "data": {
      "text/plain": [
       "'ham'"
      ]
     },
     "execution_count": 89,
     "metadata": {},
     "output_type": "execute_result"
    }
   ],
   "source": [
    "predict_class('Hi! How are you?')"
   ]
  },
  {
   "cell_type": "code",
   "execution_count": 91,
   "id": "d2f7b100",
   "metadata": {},
   "outputs": [
    {
     "data": {
      "text/html": [
       "<div>\n",
       "<style scoped>\n",
       "    .dataframe tbody tr th:only-of-type {\n",
       "        vertical-align: middle;\n",
       "    }\n",
       "\n",
       "    .dataframe tbody tr th {\n",
       "        vertical-align: top;\n",
       "    }\n",
       "\n",
       "    .dataframe thead th {\n",
       "        text-align: right;\n",
       "    }\n",
       "</style>\n",
       "<table border=\"1\" class=\"dataframe\">\n",
       "  <thead>\n",
       "    <tr style=\"text-align: right;\">\n",
       "      <th></th>\n",
       "      <th>Label</th>\n",
       "      <th>SMS</th>\n",
       "      <th>predicted</th>\n",
       "    </tr>\n",
       "  </thead>\n",
       "  <tbody>\n",
       "    <tr>\n",
       "      <th>0</th>\n",
       "      <td>ham</td>\n",
       "      <td>Wherre's my boytoy ? :-(</td>\n",
       "      <td>ham</td>\n",
       "    </tr>\n",
       "    <tr>\n",
       "      <th>1</th>\n",
       "      <td>ham</td>\n",
       "      <td>Later i guess. I needa do mcat study too.</td>\n",
       "      <td>ham</td>\n",
       "    </tr>\n",
       "    <tr>\n",
       "      <th>2</th>\n",
       "      <td>ham</td>\n",
       "      <td>But i haf enuff space got like 4 mb...</td>\n",
       "      <td>ham</td>\n",
       "    </tr>\n",
       "    <tr>\n",
       "      <th>3</th>\n",
       "      <td>spam</td>\n",
       "      <td>Had your mobile 10 mths? Update to latest Oran...</td>\n",
       "      <td>spam</td>\n",
       "    </tr>\n",
       "    <tr>\n",
       "      <th>4</th>\n",
       "      <td>ham</td>\n",
       "      <td>All sounds good. Fingers . Makes it difficult ...</td>\n",
       "      <td>ham</td>\n",
       "    </tr>\n",
       "  </tbody>\n",
       "</table>\n",
       "</div>"
      ],
      "text/plain": [
       "  Label                                                SMS predicted\n",
       "0   ham                           Wherre's my boytoy ? :-(       ham\n",
       "1   ham          Later i guess. I needa do mcat study too.       ham\n",
       "2   ham             But i haf enuff space got like 4 mb...       ham\n",
       "3  spam  Had your mobile 10 mths? Update to latest Oran...      spam\n",
       "4   ham  All sounds good. Fingers . Makes it difficult ...       ham"
      ]
     },
     "execution_count": 91,
     "metadata": {},
     "output_type": "execute_result"
    }
   ],
   "source": [
    "# Measuring the accuracy of this filter\n",
    "test_set['predicted'] = test_set['SMS'].apply(predict_class)\n",
    "test_set.head(5)"
   ]
  },
  {
   "cell_type": "code",
   "execution_count": 95,
   "id": "f341973f",
   "metadata": {},
   "outputs": [
    {
     "name": "stdout",
     "output_type": "stream",
     "text": [
      "Correct: 1101\n",
      "Incorrect: 14\n",
      "Accuracy: 0.9874439461883409\n"
     ]
    }
   ],
   "source": [
    "# Write the function to measure the accuracy of the model\n",
    "correct = 0\n",
    "total = test_set.shape[0]\n",
    "    \n",
    "for row in test_set.iterrows():\n",
    "    row = row[1]\n",
    "    if row['Label'] == row['predicted']:\n",
    "        correct += 1\n",
    "        \n",
    "print('Correct:', correct)\n",
    "print('Incorrect:', total - correct)\n",
    "print('Accuracy:', correct/total)"
   ]
  }
 ],
 "metadata": {
  "kernelspec": {
   "display_name": "Python 3 (ipykernel)",
   "language": "python",
   "name": "python3"
  },
  "language_info": {
   "codemirror_mode": {
    "name": "ipython",
    "version": 3
   },
   "file_extension": ".py",
   "mimetype": "text/x-python",
   "name": "python",
   "nbconvert_exporter": "python",
   "pygments_lexer": "ipython3",
   "version": "3.9.13"
  }
 },
 "nbformat": 4,
 "nbformat_minor": 5
}
